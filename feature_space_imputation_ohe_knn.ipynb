{
 "cells": [
  {
   "cell_type": "code",
   "execution_count": null,
   "metadata": {},
   "outputs": [],
   "source": [
    "feature_space_df = separate_feature_space_label(train_dat, label_col='sii') # (3960, 58)"
   ]
  },
  {
   "cell_type": "code",
   "execution_count": null,
   "metadata": {},
   "outputs": [],
   "source": [
    "X_train = train_dat.drop(['sii', 'id'], axis=1) # (3960, 59)\n",
    "y_train = train_dat['sii'] # (3960, )"
   ]
  },
  {
   "cell_type": "code",
   "execution_count": null,
   "metadata": {},
   "outputs": [],
   "source": [
    "X_train.isna().sum()"
   ]
  },
  {
   "cell_type": "code",
   "execution_count": null,
   "metadata": {},
   "outputs": [],
   "source": [
    "num_features = X_train.select_dtypes(include=['int64', 'float64']).columns.tolist() #48\n",
    "cat_features = X_train.select_dtypes(include=['object', 'category']).columns.tolist() #11"
   ]
  },
  {
   "cell_type": "code",
   "execution_count": null,
   "metadata": {},
   "outputs": [],
   "source": [
    "def handle_feature_space_missing_values(df, n_neighbors=5, output_path=None, mode=None):\n",
    "    \"\"\"\n",
    "    Handle missing values in the feature space using KNNImputer with one-hot encoding for categorical columns.\n",
    "\n",
    "    Args:\n",
    "        df (pd.DataFrame): Input DataFrame.\n",
    "        n_neighbors (int): Number of neighbors to use for KNN imputation.\n",
    "        output_path (str): Directory to save the output file (optional).\n",
    "        mode (str): Mode name for output file (optional).\n",
    "\n",
    "    Returns:\n",
    "        pd.DataFrame: DataFrame with missing values imputed.\n",
    "    \"\"\"\n",
    "    import pandas as pd\n",
    "    import numpy as np\n",
    "    from sklearn.preprocessing import OneHotEncoder\n",
    "    from sklearn.impute import KNNImputer\n",
    "    import os\n",
    "\n",
    "    # Identify categorical and numerical columns\n",
    "    categorical_columns = df.select_dtypes(include=['object', 'category']).columns.tolist()\n",
    "    numerical_columns = df.select_dtypes(include=['int64', 'float64']).columns.tolist()\n",
    "\n",
    "    # Initialize OneHotEncoder\n",
    "    encoder = OneHotEncoder(sparse_output=False, handle_unknown='ignore')\n",
    "\n",
    "    # Encode categorical columns\n",
    "    df_encoded = df.copy()\n",
    "    encoded_categorical = encoder.fit_transform(df[categorical_columns])\n",
    "    encoded_categorical_df = pd.DataFrame(encoded_categorical, columns=encoder.get_feature_names_out(categorical_columns))\n",
    "    df_encoded = df_encoded.drop(columns=categorical_columns).reset_index(drop=True)\n",
    "    df_encoded = pd.concat([df_encoded, encoded_categorical_df], axis=1)\n",
    "    print(f\"Shape after encoding: {df_encoded.shape}\")\n",
    "\n",
    "    # Impute missing values\n",
    "    knn_imputer = KNNImputer(n_neighbors=n_neighbors)\n",
    "    df_imputed = pd.DataFrame(knn_imputer.fit_transform(df_encoded), columns=df_encoded.columns)\n",
    "    print(f\"Shape after imputation: {df_imputed.shape}\")\n",
    "\n",
    "    # Inverse transform the one-hot encoded columns\n",
    "    encoded_categorical_imputed = df_imputed[encoder.get_feature_names_out(categorical_columns)]\n",
    "    decoded_categorical = encoder.inverse_transform(encoded_categorical_imputed)\n",
    "    decoded_categorical_df = pd.DataFrame(decoded_categorical, columns=categorical_columns)\n",
    "    df_imputed = df_imputed.drop(columns=encoder.get_feature_names_out(categorical_columns)).reset_index(drop=True)\n",
    "    df_imputed = pd.concat([df_imputed, decoded_categorical_df], axis=1)\n",
    "    print(f\"Shape after decoding: {df_imputed.shape}\")\n",
    "\n",
    "    # Ensure data types match the original DataFrame\n",
    "    for col in df.columns:\n",
    "        df_imputed[col] = df_imputed[col].astype(df[col].dtype)\n",
    "\n",
    "    # Save the output to CSV if output_path is provided\n",
    "    if output_path is not None:\n",
    "        if not os.path.exists(output_path):\n",
    "            os.makedirs(output_path)\n",
    "        df_imputed.to_csv(f\"{output_path}/{mode}.handle.missing.values.feature.space.csv\", index=False)\n",
    "\n",
    "    return df_imputed"
   ]
  },
  {
   "cell_type": "code",
   "execution_count": null,
   "metadata": {},
   "outputs": [],
   "source": [
    "df_imputed = handle_feature_space_missing_values(feature_space_df, n_neighbors=5, output_path=output_path, mode='train')"
   ]
  },
  {
   "cell_type": "code",
   "execution_count": null,
   "metadata": {},
   "outputs": [],
   "source": [
    "df_imputed.isna().sum()"
   ]
  }
 ],
 "metadata": {
  "language_info": {
   "name": "python"
  }
 },
 "nbformat": 4,
 "nbformat_minor": 2
}
